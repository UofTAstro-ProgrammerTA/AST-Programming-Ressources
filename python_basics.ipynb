{
 "cells": [
  {
   "cell_type": "markdown",
   "metadata": {},
   "source": [
    "# AST Programmer Support Tutorial 2: Python Basics"
   ]
  },
  {
   "cell_type": "markdown",
   "metadata": {},
   "source": [
    "# Printing\n",
    "\n",
    "The first thing many people learn when starting to code is how to print out a simple phrase. In python, we use the function **print()**."
   ]
  },
  {
   "cell_type": "code",
   "execution_count": 1,
   "metadata": {},
   "outputs": [
    {
     "name": "stdout",
     "output_type": "stream",
     "text": [
      "Hello world\n"
     ]
    }
   ],
   "source": [
    "print('Hello world')"
   ]
  },
  {
   "cell_type": "markdown",
   "metadata": {},
   "source": [
    "# Variables\n",
    "\n",
    "In order to avoid having to rewrite certain elements in our code over and over again, we can use what we call **variables**. \n"
   ]
  },
  {
   "cell_type": "code",
   "execution_count": 2,
   "metadata": {},
   "outputs": [
    {
     "name": "stdout",
     "output_type": "stream",
     "text": [
      "Hello world\n"
     ]
    }
   ],
   "source": [
    "s = 'Hello world'\n",
    "print(s)"
   ]
  },
  {
   "cell_type": "markdown",
   "metadata": {},
   "source": [
    "I'll be using the phrase 'Hello world' quite a bit in my examples, so I've created a variable called **s** \n",
    "to avoid having to repeat myself as much.\n",
    "\n",
    "The name s is somewhat arbitrary, and I could have named the variable many other things. Variable names can short like a single letter, or  very long.\n",
    "\n",
    "There are some restrictions however. A variable name can only contain **letters** (either capitalised or not), **digits** and **underscores** (_). Other characters like - or spaces are not allowed! \n",
    "In addition a variable's name **cannot start with a digit**."
   ]
  },
  {
   "cell_type": "code",
   "execution_count": 3,
   "metadata": {},
   "outputs": [
    {
     "name": "stdout",
     "output_type": "stream",
     "text": [
      "This is an ugly variable name though...\n"
     ]
    }
   ],
   "source": [
    "th1sIs_A_V4L1d_variabl3NAME = 'This is an ugly variable name though...'\n",
    "\n",
    "print(th1sIs_A_V4L1d_variabl3NAME)"
   ]
  },
  {
   "cell_type": "markdown",
   "metadata": {},
   "source": [
    "Obviously to save yourself some pain, it is usually a better idea to design simpler variable names than the one I just used... But it is valid!\n",
    "\n",
    "Often there's some degree of tradeoff between a variable name that's simple and one that informs you and future users about the variable purpose"
   ]
  },
  {
   "cell_type": "code",
   "execution_count": 4,
   "metadata": {},
   "outputs": [
    {
     "data": {
      "text/plain": [
       "'path/to/file1.txt'"
      ]
     },
     "execution_count": 4,
     "metadata": {},
     "output_type": "execute_result"
    }
   ],
   "source": [
    "f1 = 'path/to/file1.txt'\n",
    "fpath1 = 'path/to/file1.txt'\n",
    "path_to_file1 = 'path/to/file1.txt'\n",
    "f1"
   ]
  },
  {
   "cell_type": "markdown",
   "metadata": {},
   "source": [
    "<font size=\"5\">!!!Warning!!!</font>\n",
    "\n",
    "You generally have a great deal of freedom in choosing names for your variables. That being said if you set your variable's name to be the same as something that is pre-existing, like another variable you defined earlier or a function (like **print** used earlier), then you will overwrite it and it will no longer work, potentially cauing your code to fail. \n",
    "\n",
    "<font size=\"5\">!!!Warning!!!</font>"
   ]
  },
  {
   "cell_type": "markdown",
   "metadata": {},
   "source": [
    "Whenever you create a variable you need two things:\n",
    "* A name for your variable\n",
    "* An object you can assign to your variable.\n",
    "    \n",
    "There are many different types of object. In the above examples, I've already introduced you to one of them: **strings**.\n",
    "These are simply objects that python will treat as text-based arrangement of characters."
   ]
  },
  {
   "cell_type": "code",
   "execution_count": 5,
   "metadata": {},
   "outputs": [
    {
     "name": "stdout",
     "output_type": "stream",
     "text": [
      "Hello world <class 'str'>\n"
     ]
    }
   ],
   "source": [
    "print(s, type(s))"
   ]
  },
  {
   "cell_type": "markdown",
   "metadata": {},
   "source": [
    "# Strings\n",
    "\n",
    "Generally if you would like to write a string, you wrap your text in quatotion marks.\n",
    "\n",
    "Things can get a bit finicky if you want to write text that contains these characters to a string. As an example, let's try turning the phrase **That elephant's trunk is too long!** into a string.\n",
    "\n",
    "**Any guesses why the code below will not work?**"
   ]
  },
  {
   "cell_type": "code",
   "execution_count": 6,
   "metadata": {},
   "outputs": [
    {
     "ename": "SyntaxError",
     "evalue": "invalid syntax (<ipython-input-6-052ca7940300>, line 1)",
     "output_type": "error",
     "traceback": [
      "\u001b[0;36m  File \u001b[0;32m\"<ipython-input-6-052ca7940300>\"\u001b[0;36m, line \u001b[0;32m1\u001b[0m\n\u001b[0;31m    print('That elephant's trunk is too long!')\u001b[0m\n\u001b[0m                         ^\u001b[0m\n\u001b[0;31mSyntaxError\u001b[0m\u001b[0;31m:\u001b[0m invalid syntax\n"
     ]
    }
   ],
   "source": [
    "\n",
    "print('That elephant's trunk is too long!')\n"
   ]
  },
  {
   "cell_type": "markdown",
   "metadata": {},
   "source": [
    "The first **'** starts the string but python doesn't know that the second one is supposed to end it. We need to make certain that the character we use to define our string is not contained in the string itself!\n",
    "\n",
    "The example below should work"
   ]
  },
  {
   "cell_type": "code",
   "execution_count": 7,
   "metadata": {},
   "outputs": [
    {
     "name": "stdout",
     "output_type": "stream",
     "text": [
      "That elephant's trunk is long!\n"
     ]
    }
   ],
   "source": [
    "print(\"That elephant's trunk is long!\")"
   ]
  },
  {
   "cell_type": "markdown",
   "metadata": {},
   "source": [
    "In the even that our text contains both types of quotation characters, we need to be a bit more careful. If for instance we would like to make a string out of the text **The hare said \"I'll take a nap\", and went to sleep...**. Here we can use two different setups:\n",
    "* **'''The hare said \"I'll take a nap\", and went to sleep...'''**\n",
    "* **\"\"\"The hare said \"I'll take a nap\", and went to sleep...\"\"\"**\n",
    "    \n",
    "These look a bit goofy but it's very unlikely that your text can't be turned into a string with these"
   ]
  },
  {
   "cell_type": "code",
   "execution_count": 8,
   "metadata": {},
   "outputs": [
    {
     "name": "stdout",
     "output_type": "stream",
     "text": [
      "The hare said \"I'll take a nap\", and went to sleep...\n",
      "The hare said \"I'll take a nap\", and went to sleep...\n"
     ]
    }
   ],
   "source": [
    "print('''The hare said \"I'll take a nap\", and went to sleep...''')\n",
    "print(\"\"\"The hare said \"I'll take a nap\", and went to sleep...\"\"\")"
   ]
  },
  {
   "cell_type": "markdown",
   "metadata": {},
   "source": [
    "# Numbers\n",
    "\n",
    "Strings aren't the only objects you're likely to encounter in python. In astronomy, much more often you will be dealing with some form of **numeric data**.\n",
    "\n",
    "## Integers\n",
    "\n",
    "**Integers** are the simplest type of number in python. These represent **whole numbers**, both **positive** and **negative**"
   ]
  },
  {
   "cell_type": "code",
   "execution_count": 9,
   "metadata": {},
   "outputs": [
    {
     "name": "stdout",
     "output_type": "stream",
     "text": [
      "-1 <class 'int'>\n"
     ]
    }
   ],
   "source": [
    "i = -1\n",
    "print(i, type(i))"
   ]
  },
  {
   "cell_type": "markdown",
   "metadata": {},
   "source": [
    "## Floats\n",
    "\n",
    "When coding, decimal numbers are referred to as **floats**. Again, these can be positive or negative"
   ]
  },
  {
   "cell_type": "code",
   "execution_count": 10,
   "metadata": {},
   "outputs": [
    {
     "name": "stdout",
     "output_type": "stream",
     "text": [
      "1.9042 <class 'float'>\n"
     ]
    }
   ],
   "source": [
    "f = 1.9042\n",
    "print(f, type(f))"
   ]
  },
  {
   "cell_type": "markdown",
   "metadata": {},
   "source": [
    "## Complex numbers\n",
    "\n",
    "The last form of numbers we'll be dealing with are **complex** numbers. These constitute a real component and an imaginary component, however instead of the imaginary numbers being based on the value i, in python we instead use **j**"
   ]
  },
  {
   "cell_type": "code",
   "execution_count": 11,
   "metadata": {},
   "outputs": [
    {
     "name": "stdout",
     "output_type": "stream",
     "text": [
      "(5+2.1j) <class 'complex'>\n"
     ]
    }
   ],
   "source": [
    "c = 5 + 2.1j\n",
    "print(c, type(c))"
   ]
  },
  {
   "cell_type": "markdown",
   "metadata": {},
   "source": [
    "Something more to note here is that the same number can be eithe an integer, a float or complex depending on how it is defined. For instance 1 could be an **integer** if defined as **1**, a **float** if defined as **1.0**, or **complex** if defined as **1 + 0j** or **1.0 + 0j**"
   ]
  },
  {
   "cell_type": "markdown",
   "metadata": {},
   "source": [
    "# Booleans\n",
    "\n",
    "**Booleans** are used to represent true and false statements. They can be set manually as in"
   ]
  },
  {
   "cell_type": "code",
   "execution_count": 12,
   "metadata": {},
   "outputs": [
    {
     "name": "stdout",
     "output_type": "stream",
     "text": [
      "True False <class 'bool'>\n"
     ]
    }
   ],
   "source": [
    "b1 = True \n",
    "b2 = False\n",
    "print(b1, b2, type(b2))"
   ]
  },
  {
   "cell_type": "markdown",
   "metadata": {},
   "source": [
    "We can also use comparison operators to make booleans out of other objects. These conditions typically involve:\n",
    "* **==** (equal to)\n",
    "* **!=** (not equal to)\n",
    "* **<**  (less than)\n",
    "* **<=** (less than or equal to)\n",
    "* **>** (more than)\n",
    "* **>=** (greater than or equal to)\n",
    "    \n",
    "For example:"
   ]
  },
  {
   "cell_type": "code",
   "execution_count": 16,
   "metadata": {},
   "outputs": [
    {
     "name": "stdout",
     "output_type": "stream",
     "text": [
      "False\n"
     ]
    }
   ],
   "source": [
    "bt = type(i) == float\n",
    "print(bt)"
   ]
  },
  {
   "cell_type": "markdown",
   "metadata": {},
   "source": [
    "# Lists, Tuples and Sets\n",
    "\n",
    "We can also gather objects into groups of objects which are themselves objects. In many ways, these are similar to strings, however strings can only ever be groups of other strings, while these can be groups of objects other than their own type. \n",
    "\n",
    "The first and by far most flexible of these is the **list**. Lists are defined using square brackets **[]**"
   ]
  },
  {
   "cell_type": "code",
   "execution_count": 17,
   "metadata": {},
   "outputs": [
    {
     "name": "stdout",
     "output_type": "stream",
     "text": [
      "['Hello world', 'path/to/file1.txt', -1, 1.9042] <class 'list'>\n"
     ]
    }
   ],
   "source": [
    "L = [s, fpath1, i, f]\n",
    "print(L, type(L))"
   ]
  },
  {
   "cell_type": "markdown",
   "metadata": {},
   "source": [
    "Meanwhile, **tuples** are defined with brackets **()**. In many cases they can be more computationally efficient than lists, but cannot be altered once defined (they are not **mutable**) and so cannot always be used instead of list."
   ]
  },
  {
   "cell_type": "code",
   "execution_count": 18,
   "metadata": {},
   "outputs": [
    {
     "name": "stdout",
     "output_type": "stream",
     "text": [
      "('Hello world', 'path/to/file1.txt', -1, 1.9042) <class 'tuple'>\n"
     ]
    }
   ],
   "source": [
    "T = (s, fpath1, i, f)\n",
    "print(T, type(T))"
   ]
  },
  {
   "cell_type": "markdown",
   "metadata": {},
   "source": [
    "Unlike lists and tuples, **sets** are **unordered**, meaning each element does not have a defined position in the set. As a result of this, they do not contain duplicates. They are define using curly brackets **{}**"
   ]
  },
  {
   "cell_type": "code",
   "execution_count": 19,
   "metadata": {},
   "outputs": [
    {
     "name": "stdout",
     "output_type": "stream",
     "text": [
      "{1.9042, 'Hello world', (5+2.1j), 'path/to/file1.txt', -1} <class 'set'>\n"
     ]
    }
   ],
   "source": [
    "S = {s, fpath1, i, i, f, c}\n",
    "print(S, type(S))"
   ]
  },
  {
   "cell_type": "markdown",
   "metadata": {},
   "source": [
    "For reference, here is a table of these different object's properties"
   ]
  },
  {
   "cell_type": "code",
   "execution_count": null,
   "metadata": {},
   "outputs": [],
   "source": [
    "#                    Lists  Tuples  Sets   .  Strings*\n",
    "#      Mutable?        Y      N      Y     .     N\n",
    "#      Ordered?        Y      Y      N     .     Y\n",
    "# Duplicate values?    Y      Y      N     .     Y"
   ]
  },
  {
   "cell_type": "markdown",
   "metadata": {},
   "source": [
    "# Dictionaries\n",
    "\n",
    "**Dictionaries** can be used to store data based on keywords of your choosing. In order to create a dictionary you need a series of pairs, each composed of a **key** (a string) and a **value** (any object of any kind). Similarly to sets, dictionaries are defined with curly brackets **{}**, but their syntax when doing so is quite different"
   ]
  },
  {
   "cell_type": "code",
   "execution_count": 20,
   "metadata": {},
   "outputs": [
    {
     "name": "stdout",
     "output_type": "stream",
     "text": [
      "{'strings': ['Hello world', 'path/to/file1.txt'], 'numbers': (-1, 1.9042), 'colour': 'blue'} <class 'dict'>\n"
     ]
    }
   ],
   "source": [
    "D = {'strings': [s, fpath1], 'numbers': (i, f), 'colour': 'blue'}\n",
    "print(D, type(D))"
   ]
  },
  {
   "cell_type": "markdown",
   "metadata": {},
   "source": [
    "It is then possible to look up the value associated to a given key by referencing the key with square brackets **[]**"
   ]
  },
  {
   "cell_type": "code",
   "execution_count": 21,
   "metadata": {},
   "outputs": [
    {
     "data": {
      "text/plain": [
       "(-1, 1.9042)"
      ]
     },
     "execution_count": 21,
     "metadata": {},
     "output_type": "execute_result"
    }
   ],
   "source": [
    "D['numbers']"
   ]
  },
  {
   "cell_type": "markdown",
   "metadata": {},
   "source": [
    "You can try turning objects of one type into objects af another type.\n",
    "Though some of these types may be incompatible, and some that are compatible may lead to initially unintuitive, but consistent, results.\n",
    "\n",
    "In order of introduction, these are:\n",
    "\n",
    "**str(), int(), float(), complex(), list(), tuple(), set(), dict()**\n",
    "\n",
    "It would be clunky and very time consuming to try and show you all the different interactions these can have with one another, but I encourrage you to try some out and see how they change whatever object you put in."
   ]
  },
  {
   "cell_type": "markdown",
   "metadata": {},
   "source": [
    "# Some basic operations\n",
    "\n",
    "There are quite a few useful operations to know, though these depend on the object type being considered. To make things a bit easier, a table is provided bellow showing which operations apply to which object. There are of course many more operations one can do, but this is likely a good enough sample to start with."
   ]
  },
  {
   "cell_type": "code",
   "execution_count": null,
   "metadata": {},
   "outputs": [],
   "source": [
    "#                list-like                .        number-like\n",
    "#            ================             .  ========================\n",
    "#            str  list  tuple  set  dict  .  int  float  complex bool\n",
    "#  Length     Y    Y      Y     Y    Y    .   N     N       N     N\n",
    "# Indexing    Y*   Y      Y*    N    N    .   N     N       N     N\n",
    "#  Slicing    Y    Y      Y     N    N    .   N     N       N     N\n",
    "# Appending   Y*   Y      Y*    Y    N    .   N     N       N     N   \n",
    "#     +       Y*   Y*     Y*    N    N    .   Y     Y       Y     Y*\n",
    "#     -       N    N      N     N    N    .   Y     Y       Y     Y* \n",
    "#     *       Y*   Y*     Y*    N    N    .   Y     Y       Y     Y*\n",
    "#     **      N    N      N     N    N    .   Y     Y       Y     Y*\n",
    "#     /       N    N      N     N    N    .   Y     Y       Y     Y*\n",
    "#     //      N    N      N     N    N    .   Y     Y       N     Y*\n",
    "#     %       N    N      N     N    N    .   Y     Y       N     Y*"
   ]
  },
  {
   "cell_type": "markdown",
   "metadata": {},
   "source": [
    "Before these though, we'll go over a couple of useful operations which only apply to single object types. The first of these is the **split** method, which allows you to separate out your string into a list of component strings. This method by default splits the string based on any spaces it identifies."
   ]
  },
  {
   "cell_type": "code",
   "execution_count": 22,
   "metadata": {},
   "outputs": [
    {
     "name": "stdout",
     "output_type": "stream",
     "text": [
      "Hello world\n",
      "['Hello', 'world']\n"
     ]
    }
   ],
   "source": [
    "print(s)\n",
    "split1 = s.split()\n",
    "print(split1)"
   ]
  },
  {
   "cell_type": "markdown",
   "metadata": {},
   "source": [
    "You can however change this to split based on any string."
   ]
  },
  {
   "cell_type": "code",
   "execution_count": 23,
   "metadata": {},
   "outputs": [
    {
     "name": "stdout",
     "output_type": "stream",
     "text": [
      "['He', '', 'o wor', 'd']\n"
     ]
    }
   ],
   "source": [
    "split2 = s.split('l')\n",
    "print(split2)"
   ]
  },
  {
   "cell_type": "markdown",
   "metadata": {},
   "source": [
    "You can also **sort** a list either numerically (for a list of numbers) or alphabetically (for a list of strings). Unlike split, this method does not output anything and instead directly alters the given list"
   ]
  },
  {
   "cell_type": "code",
   "execution_count": 24,
   "metadata": {},
   "outputs": [
    {
     "name": "stdout",
     "output_type": "stream",
     "text": [
      "['', 'He', 'd', 'o wor']\n"
     ]
    }
   ],
   "source": [
    "split2.sort()\n",
    "print(split2)"
   ]
  },
  {
   "cell_type": "markdown",
   "metadata": {},
   "source": [
    "### Length\n",
    "\n",
    "For objects that can contain multiple elements, you can easily determine how many elements they have. In the case of a string, it will output the number of characters, including spaces, while for a dictionary, it will output the number of keys."
   ]
  },
  {
   "cell_type": "code",
   "execution_count": 25,
   "metadata": {},
   "outputs": [
    {
     "name": "stdout",
     "output_type": "stream",
     "text": [
      "11 4 3\n"
     ]
    }
   ],
   "source": [
    "print(len(s), len(L), len(D))"
   ]
  },
  {
   "cell_type": "markdown",
   "metadata": {},
   "source": [
    "### Indexing\n",
    "\n",
    "Ordered objects with that can contain multiple elements can also be **indexed**. With this you can access any specific element of the object, so long as you know its position in the object.\n",
    "\n",
    "In python, the first element always starts at **index 0** and the last element is at **index N-1**, where N is the length of the object. You can also index backwards from the end, strating with the negative **index -1**. You can reference a given index for a list, tuple or string usinf square brackets **[]**."
   ]
  },
  {
   "cell_type": "code",
   "execution_count": 26,
   "metadata": {},
   "outputs": [
    {
     "name": "stdout",
     "output_type": "stream",
     "text": [
      "H -1 1.9042\n"
     ]
    }
   ],
   "source": [
    "print(s[0], L[-2], T[3])"
   ]
  },
  {
   "cell_type": "markdown",
   "metadata": {},
   "source": [
    "For lists in particular, which are both mutable and ordered, we can use indexing to change the indexed values. "
   ]
  },
  {
   "cell_type": "code",
   "execution_count": 27,
   "metadata": {},
   "outputs": [
    {
     "name": "stdout",
     "output_type": "stream",
     "text": [
      "['Hello world', 'path/to/file1.txt', -1, 1.9042]\n",
      "['Hello world', 'path/to/file1.txt', -1, [2.1]]\n"
     ]
    }
   ],
   "source": [
    "print(L)\n",
    "L[3] = [2.1]\n",
    "print(L)"
   ]
  },
  {
   "cell_type": "markdown",
   "metadata": {},
   "source": [
    "### Slicing\n",
    "\n",
    "Similar to indexing, you can also use a start index and end index to do what is called **slicing**. This is done by introducing the character **:** between two indices. \n",
    "\n",
    "Slicing includes the start index, but excludes the end index. If you mean to include the first element (index 0) then you may omit the start index, and if you wish to include the last element (index -1) then you may omit the end index from the slice."
   ]
  },
  {
   "cell_type": "code",
   "execution_count": 28,
   "metadata": {},
   "outputs": [
    {
     "name": "stdout",
     "output_type": "stream",
     "text": [
      "llo wor\n",
      "Hello\n",
      "world\n",
      "worl\n"
     ]
    }
   ],
   "source": [
    "print(s[2:9])\n",
    "print(s[:5]) # same as a[0:5]\n",
    "print(s[6:])\n",
    "print(s[6:-1]) # not the same as a[6:]"
   ]
  },
  {
   "cell_type": "markdown",
   "metadata": {},
   "source": [
    "With slicing, we can also **flip** the ordered object"
   ]
  },
  {
   "cell_type": "code",
   "execution_count": 29,
   "metadata": {},
   "outputs": [
    {
     "name": "stdout",
     "output_type": "stream",
     "text": [
      "dlrow olleH\n"
     ]
    }
   ],
   "source": [
    "print(s[::-1])"
   ]
  },
  {
   "cell_type": "markdown",
   "metadata": {},
   "source": [
    "Or even **skip** every Nth element"
   ]
  },
  {
   "cell_type": "code",
   "execution_count": 30,
   "metadata": {},
   "outputs": [
    {
     "name": "stdout",
     "output_type": "stream",
     "text": [
      "Hlowrd\n"
     ]
    }
   ],
   "source": [
    "N = 2\n",
    "print(s[::N]) # Prints every Nth element, here N=2"
   ]
  },
  {
   "cell_type": "markdown",
   "metadata": {},
   "source": [
    "Again, in the case of lists, as with indexing, you can change the values inside a slice"
   ]
  },
  {
   "cell_type": "code",
   "execution_count": 31,
   "metadata": {},
   "outputs": [
    {
     "name": "stdout",
     "output_type": "stream",
     "text": [
      "['', 'He', 'd', 'o wor']\n",
      "['', 1, 2, 'o wor']\n"
     ]
    }
   ],
   "source": [
    "print(split2)\n",
    "split2[1:3] = [1,2]\n",
    "print(split2)"
   ]
  },
  {
   "cell_type": "markdown",
   "metadata": {},
   "source": [
    "### Appending\n",
    "\n",
    "In the case of lists and sets, you can also add elements to the end of your object. For a single element, we use the **append** method for lists and **add** method for sets, while for multiple elements, we use **extend** and **update** respectively."
   ]
  },
  {
   "cell_type": "code",
   "execution_count": 32,
   "metadata": {},
   "outputs": [
    {
     "name": "stdout",
     "output_type": "stream",
     "text": [
      "['', 1, 2, 'o wor', 60]\n",
      "['', 1, 2, 'o wor', 60, 'two', 3.1]\n"
     ]
    }
   ],
   "source": [
    "split2.append(60) # For single element\n",
    "print(split2)\n",
    "split2.extend(['two', 3.1]) # For multiple element\n",
    "print(split2)"
   ]
  },
  {
   "cell_type": "markdown",
   "metadata": {},
   "source": [
    "### Applying + and * to list-like objects\n",
    "\n",
    "In the case of strings, tuples and lists, we can make use of the **+** and ***** operators. These behave supprisingly intuitively"
   ]
  },
  {
   "cell_type": "code",
   "execution_count": 33,
   "metadata": {},
   "outputs": [
    {
     "name": "stdout",
     "output_type": "stream",
     "text": [
      "Hello world!\n"
     ]
    }
   ],
   "source": [
    "s2 = s + '!'\n",
    "print(s2)"
   ]
  },
  {
   "cell_type": "markdown",
   "metadata": {},
   "source": [
    "Using the + operator this way allows us to obtain similar outcomes as appending for strings and tuples, though at the price of speed."
   ]
  },
  {
   "cell_type": "code",
   "execution_count": 34,
   "metadata": {},
   "outputs": [
    {
     "name": "stdout",
     "output_type": "stream",
     "text": [
      "Hello world!?\n"
     ]
    }
   ],
   "source": [
    "s2 = s2 + '?'\n",
    "print(s2)"
   ]
  },
  {
   "cell_type": "markdown",
   "metadata": {},
   "source": [
    "Using * also provides unsuprising results"
   ]
  },
  {
   "cell_type": "code",
   "execution_count": 35,
   "metadata": {},
   "outputs": [
    {
     "name": "stdout",
     "output_type": "stream",
     "text": [
      "!!!!!\n"
     ]
    }
   ],
   "source": [
    "print('!'*5)"
   ]
  },
  {
   "cell_type": "markdown",
   "metadata": {},
   "source": [
    "## Math with python\n",
    "\n",
    "When it comes to numbers, **+** (addition), **-** (subtraction), ***** (multiplication) and **/** (division) all work the same as you would expect."
   ]
  },
  {
   "cell_type": "code",
   "execution_count": 36,
   "metadata": {},
   "outputs": [
    {
     "name": "stdout",
     "output_type": "stream",
     "text": [
      "2\n",
      "-7\n",
      "10.5\n",
      "0.3333333333333333\n"
     ]
    }
   ],
   "source": [
    "print(1+1)\n",
    "print(3-10)\n",
    "print(2.1*5)\n",
    "print(1/3)"
   ]
  },
  {
   "cell_type": "markdown",
   "metadata": {},
   "source": [
    "For any numbers n, m, you can also use the following shorthands:\n",
    "\n",
    "* n += m is the same as n = n + m\n",
    "* n -= m is the same as n = n - m\n",
    "* n *= m is the same as n = n * m\n",
    "* n /= m is the same as n = n / m\n",
    "\n",
    "Unlike the others, exponents are perhaps a bit different then you may be used to:"
   ]
  },
  {
   "cell_type": "code",
   "execution_count": 37,
   "metadata": {},
   "outputs": [
    {
     "data": {
      "text/plain": [
       "1000"
      ]
     },
     "execution_count": 37,
     "metadata": {},
     "output_type": "execute_result"
    }
   ],
   "source": [
    "10**3"
   ]
  },
  {
   "cell_type": "markdown",
   "metadata": {},
   "source": [
    "These are completed by a couple of less used mathematical operators. **//** is the floor operator"
   ]
  },
  {
   "cell_type": "code",
   "execution_count": 38,
   "metadata": {},
   "outputs": [
    {
     "data": {
      "text/plain": [
       "5"
      ]
     },
     "execution_count": 38,
     "metadata": {},
     "output_type": "execute_result"
    }
   ],
   "source": [
    "11 // 2"
   ]
  },
  {
   "cell_type": "markdown",
   "metadata": {},
   "source": [
    "while **%** is the remainder operator"
   ]
  },
  {
   "cell_type": "code",
   "execution_count": 39,
   "metadata": {},
   "outputs": [
    {
     "data": {
      "text/plain": [
       "1"
      ]
     },
     "execution_count": 39,
     "metadata": {},
     "output_type": "execute_result"
    }
   ],
   "source": [
    "11 % 2"
   ]
  },
  {
   "cell_type": "markdown",
   "metadata": {},
   "source": [
    "When writing mathematical operations in python, you can use () without worrying that it will interpret these as brackets for a tuple. As a quick example:"
   ]
  },
  {
   "cell_type": "code",
   "execution_count": 42,
   "metadata": {},
   "outputs": [
    {
     "name": "stdout",
     "output_type": "stream",
     "text": [
      "441\n",
      "220.5\n"
     ]
    }
   ],
   "source": [
    "a = 20\n",
    "b = 2\n",
    "c = 1\n",
    "\n",
    "m = c*(a+1)**b\n",
    "print(m)\n",
    "\n",
    "x = m / 2\n",
    "print(x)"
   ]
  },
  {
   "cell_type": "markdown",
   "metadata": {},
   "source": [
    "# Loops\n",
    "\n",
    "So far everything we've looked at has been very manual. If all code was like this, then it wouldn't be very useful at all. Thankfully we can write code into blocks that repeat over and over again, allowing us to perform many operations with only a few lines\n",
    "\n",
    "These **loops** come in two types. The first is the **for** loop, which runs through every element of an input object (like a list) and preforms the desired operation for each iteration."
   ]
  },
  {
   "cell_type": "code",
   "execution_count": 45,
   "metadata": {},
   "outputs": [
    {
     "name": "stdout",
     "output_type": "stream",
     "text": [
      "[0, 1, 4, 9, 16, 25, 36, 49, 64, 81, 100]\n"
     ]
    }
   ],
   "source": [
    "L = []\n",
    "\n",
    "for i in range(11):\n",
    "    L.append(i**2)\n",
    "    \n",
    "print(L)"
   ]
  },
  {
   "cell_type": "markdown",
   "metadata": {},
   "source": [
    "The next loop is the **while** loop. At the start of each iteration, the while loop will check if a given condition has been met. If it has not, then it will continue with the iteration. If it has then it will stop. This example leads in the same result as the for loop above"
   ]
  },
  {
   "cell_type": "code",
   "execution_count": 48,
   "metadata": {},
   "outputs": [
    {
     "name": "stdout",
     "output_type": "stream",
     "text": [
      "[0, 1, 4, 9, 16, 25, 36, 49, 64, 81, 100]\n"
     ]
    }
   ],
   "source": [
    "L = []\n",
    "i = 0\n",
    "\n",
    "while i < 11: \n",
    "    L.append(i**2)\n",
    "    i += 1\n",
    "    \n",
    "print(L)"
   ]
  },
  {
   "cell_type": "markdown",
   "metadata": {},
   "source": [
    "In the case above, clearly for loop is a bit better/easier to write, though often they can accomplish the same thing.\n",
    "\n",
    "Use a for loop when:\n",
    "* you know how many times the loop will execute beforehand (as was the case above)\n",
    "* you are iterating over the elements of a pre-existing array\n",
    "\n",
    "Use a while loop when:\n",
    "* you need some user input (using the input() function)\n",
    "* your increment is variable\n"
   ]
  },
  {
   "cell_type": "markdown",
   "metadata": {},
   "source": [
    "# If statements\n",
    "\n",
    "Accompanying loops are **if** statements. These check for given conditions, and if they are satisfied, can modify the outcome of your loop. In the example bellow, a number is checked for divisibility by 3. If it is not then **elif**, short for \"else if\" checks if the number is odd. The **else** statement kicks in if no of the previous conditions are satisfied."
   ]
  },
  {
   "cell_type": "code",
   "execution_count": 49,
   "metadata": {},
   "outputs": [
    {
     "name": "stdout",
     "output_type": "stream",
     "text": [
      "N is odd\n"
     ]
    }
   ],
   "source": [
    "N = 113\n",
    "\n",
    "if N % 3 == 0:\n",
    "    print('N is divisible by three')\n",
    "elif N % 2 == 1:\n",
    "    print('N is odd')\n",
    "else:\n",
    "    print('N is even and non-divisible by three')"
   ]
  },
  {
   "cell_type": "markdown",
   "metadata": {},
   "source": [
    "# Functions\n",
    "\n",
    "It is considered to be good practice to make your code as modular as possible. This makes it easier to figure out where things go wrong when they do, and helps to keep your code easy to read and clean as it grows in both length and complexity.\n",
    "\n",
    "To this end you can package snippets of code into **functions** which you can later call. These often require a certain number of inputs, and they can **return** outputs.\n",
    "\n",
    "To make things easier to track, it is recommended that you create a **docsting** that records what the functions intended behaviour is, and to comment your code with **#** in order to describe what certain lines or blocks of code are meant to be doing.\n",
    "\n",
    "As an illustrative example a function to print out a simple diamond pattern of variable size is included"
   ]
  },
  {
   "cell_type": "code",
   "execution_count": 51,
   "metadata": {},
   "outputs": [],
   "source": [
    "def diamond(N, startype='*', padding=1):\n",
    "    '''\n",
    "    Inputs:\n",
    "    =======\n",
    "        N: int; diamond width in stars\n",
    "        startype: str; character or characters used to draw diamond      \n",
    "        padding: int; number of spaces between each character composing the diamond\n",
    "    Outputs:\n",
    "    ========\n",
    "        prints out diamond of width N \n",
    "        returns statement regarding task success. \n",
    "    '''\n",
    "    \n",
    "    # Check N is odd\n",
    "    if N % 2 != 1:\n",
    "        return 'N is not odd. Cannot make a nice diamond shape with that width!'\n",
    "    \n",
    "    # Check if input mode is valid and adjust base strings\n",
    "    if type(padding) == int:\n",
    "        star = startype + ' '*padding\n",
    "        blank = ' ' + ' '*padding\n",
    "    else:\n",
    "        return 'Invalid padding chosen. Diamond not made'\n",
    "    \n",
    "    Nstar = 1\n",
    "    for i in range(N):\n",
    "        Nblank = int((N - Nstar)/2)\n",
    "        print(blank*Nblank + star*Nstar + blank*Nblank)\n",
    "        if i+1 < N/2:\n",
    "            Nstar += 2\n",
    "        else: \n",
    "            Nstar -= 2\n",
    "    \n",
    "    return 'Diamond printed!'"
   ]
  },
  {
   "cell_type": "code",
   "execution_count": 57,
   "metadata": {
    "scrolled": false
   },
   "outputs": [
    {
     "name": "stdout",
     "output_type": "stream",
     "text": [
      "                                                  .                                                  \n",
      "                                                 ...                                                 \n",
      "                                                .....                                                \n",
      "                                               .......                                               \n",
      "                                              .........                                              \n",
      "                                             ...........                                             \n",
      "                                            .............                                            \n",
      "                                           ...............                                           \n",
      "                                          .................                                          \n",
      "                                         ...................                                         \n",
      "                                        .....................                                        \n",
      "                                       .......................                                       \n",
      "                                      .........................                                      \n",
      "                                     ...........................                                     \n",
      "                                    .............................                                    \n",
      "                                   ...............................                                   \n",
      "                                  .................................                                  \n",
      "                                 ...................................                                 \n",
      "                                .....................................                                \n",
      "                               .......................................                               \n",
      "                              .........................................                              \n",
      "                             ...........................................                             \n",
      "                            .............................................                            \n",
      "                           ...............................................                           \n",
      "                          .................................................                          \n",
      "                         ...................................................                         \n",
      "                        .....................................................                        \n",
      "                       .......................................................                       \n",
      "                      .........................................................                      \n",
      "                     ...........................................................                     \n",
      "                    .............................................................                    \n",
      "                   ...............................................................                   \n",
      "                  .................................................................                  \n",
      "                 ...................................................................                 \n",
      "                .....................................................................                \n",
      "               .......................................................................               \n",
      "              .........................................................................              \n",
      "             ...........................................................................             \n",
      "            .............................................................................            \n",
      "           ...............................................................................           \n",
      "          .................................................................................          \n",
      "         ...................................................................................         \n",
      "        .....................................................................................        \n",
      "       .......................................................................................       \n",
      "      .........................................................................................      \n",
      "     ...........................................................................................     \n",
      "    .............................................................................................    \n",
      "   ...............................................................................................   \n",
      "  .................................................................................................  \n",
      " ................................................................................................... \n",
      ".....................................................................................................\n",
      " ................................................................................................... \n",
      "  .................................................................................................  \n",
      "   ...............................................................................................   \n",
      "    .............................................................................................    \n",
      "     ...........................................................................................     \n",
      "      .........................................................................................      \n",
      "       .......................................................................................       \n",
      "        .....................................................................................        \n",
      "         ...................................................................................         \n",
      "          .................................................................................          \n",
      "           ...............................................................................           \n",
      "            .............................................................................            \n",
      "             ...........................................................................             \n",
      "              .........................................................................              \n",
      "               .......................................................................               \n",
      "                .....................................................................                \n",
      "                 ...................................................................                 \n",
      "                  .................................................................                  \n",
      "                   ...............................................................                   \n",
      "                    .............................................................                    \n",
      "                     ...........................................................                     \n",
      "                      .........................................................                      \n",
      "                       .......................................................                       \n",
      "                        .....................................................                        \n",
      "                         ...................................................                         \n",
      "                          .................................................                          \n",
      "                           ...............................................                           \n",
      "                            .............................................                            \n",
      "                             ...........................................                             \n",
      "                              .........................................                              \n",
      "                               .......................................                               \n",
      "                                .....................................                                \n",
      "                                 ...................................                                 \n",
      "                                  .................................                                  \n",
      "                                   ...............................                                   \n",
      "                                    .............................                                    \n",
      "                                     ...........................                                     \n",
      "                                      .........................                                      \n",
      "                                       .......................                                       \n",
      "                                        .....................                                        \n",
      "                                         ...................                                         \n",
      "                                          .................                                          \n",
      "                                           ...............                                           \n",
      "                                            .............                                            \n",
      "                                             ...........                                             \n",
      "                                              .........                                              \n",
      "                                               .......                                               \n",
      "                                                .....                                                \n",
      "                                                 ...                                                 \n",
      "                                                  .                                                  \n",
      "Diamond printed!\n"
     ]
    }
   ],
   "source": [
    "status = diamond(101, startype='.', padding=0)\n",
    "print(status)"
   ]
  },
  {
   "cell_type": "code",
   "execution_count": null,
   "metadata": {},
   "outputs": [],
   "source": []
  }
 ],
 "metadata": {
  "kernelspec": {
   "display_name": "Python 3",
   "language": "python",
   "name": "python3"
  },
  "language_info": {
   "codemirror_mode": {
    "name": "ipython",
    "version": 3
   },
   "file_extension": ".py",
   "mimetype": "text/x-python",
   "name": "python",
   "nbconvert_exporter": "python",
   "pygments_lexer": "ipython3",
   "version": "3.7.4"
  }
 },
 "nbformat": 4,
 "nbformat_minor": 2
}
