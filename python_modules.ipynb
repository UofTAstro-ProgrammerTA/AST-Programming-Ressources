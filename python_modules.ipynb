{
 "cells": [
  {
   "cell_type": "markdown",
   "metadata": {},
   "source": [
    "# Programmer Support Tutorial 3: Python Modules\n",
    "\n",
    "## Importing Modules\n",
    "\n",
    "Often, for more advanced programming some of the functionnality you are looking for to accomplish various tasks may already exist and be available to you in the form of **modules**.\n",
    "\n",
    "To load a module into python, you can call\n",
    "\n",
    "            import numpy\n",
    "            \n",
    "where here we are loading the module **numpy**. You can then access functions, objects and variables from that module by referrencing the module beforehand. \n",
    "\n",
    "            numpy.zeros(10)\n",
    "\n",
    "In some cases it may be easier to define a shortand for the loaded module. This can be done as follows\n",
    "\n",
    "            import numpy as np\n",
    "\n",
    "allowing you to call elements of the module more easily\n",
    "\n",
    "            np.zeros(10)\n",
    "            \n",
    "If you would only like to load in a particular subsection of a module you can also do that\n",
    "\n",
    "            from numpy import zeros\n",
    "            zeros(10)\n",
    "            \n",
    "Again, whatever you load in can be abbreviated\n",
    "\n",
    "            from numpy import zeros as z\n",
    "            z(10)\n",
    "            \n",
    "Some modules also contain modules nested within them and these can be loaded the same way as anything else can be loaded from the module:\n",
    "\n",
    "            import numpy as np\n",
    "            np.random.rand()\n",
    "            \n",
    "            from numpy import random\n",
    "            random.rand()\n",
    "            \n",
    "            from numpy.random import rand\n",
    "            rand()\n",
    "            \n",
    "Be careful when you load in anything to python that you don't overwrite previously defined variable you still need, and take care than new variable names do not replace your loaded modules"
   ]
  },
  {
   "cell_type": "markdown",
   "metadata": {},
   "source": [
    "## Numpy\n",
    "\n",
    "Numpy is easily one of the most important modules in python, and you will likely be loading it into most python scripts in astronomy.\n",
    "\n",
    "Numpy contains many mathematical constants and functions that are not included in base python."
   ]
  },
  {
   "cell_type": "code",
   "execution_count": 1,
   "metadata": {},
   "outputs": [
    {
     "data": {
      "text/plain": [
       "-1.0"
      ]
     },
     "execution_count": 1,
     "metadata": {},
     "output_type": "execute_result"
    }
   ],
   "source": [
    "import numpy as np\n",
    "from numpy import cos, sin, exp, log, sqrt, pi\n",
    "\n",
    "cos(pi)"
   ]
  },
  {
   "cell_type": "markdown",
   "metadata": {},
   "source": [
    "### Arrays\n",
    "\n",
    "One of numpy's biggest advantages is the introduction of a new type of object called **arrays**. In many ways these behave like vectors (1D), matrices (2D) and tensors (3D+) and allow you to perform mathematical operations on entire datasets at once, **much more quickly** than you otherwise could with a loop.\n",
    "\n",
    "Last week I used the example below to show how to use a **for** loop:"
   ]
  },
  {
   "cell_type": "code",
   "execution_count": 2,
   "metadata": {},
   "outputs": [
    {
     "name": "stdout",
     "output_type": "stream",
     "text": [
      "[0, 1, 4, 9, 16, 25, 36, 49, 64, 81, 100]\n"
     ]
    }
   ],
   "source": [
    "L = []\n",
    "\n",
    "for i in range(11):\n",
    "    L.append(i**2)\n",
    "    \n",
    "print(L)"
   ]
  },
  {
   "cell_type": "markdown",
   "metadata": {},
   "source": [
    "Using numpy arrays, the same thing can be done much faster"
   ]
  },
  {
   "cell_type": "code",
   "execution_count": 3,
   "metadata": {},
   "outputs": [
    {
     "name": "stdout",
     "output_type": "stream",
     "text": [
      "[  0   1   4   9  16  25  36  49  64  81 100]\n"
     ]
    }
   ],
   "source": [
    "x = np.arange(0, 11)\n",
    "y = x**2\n",
    "print(y)"
   ]
  },
  {
   "cell_type": "markdown",
   "metadata": {},
   "source": [
    "There are a few different ways that you can create an array. The first one is to convert something like a preexisting list or tuple using **array()**"
   ]
  },
  {
   "cell_type": "code",
   "execution_count": 4,
   "metadata": {},
   "outputs": [
    {
     "name": "stdout",
     "output_type": "stream",
     "text": [
      "[  0   1   4   9  16  25  36  49  64  81 100]\n"
     ]
    }
   ],
   "source": [
    "l = np.array(L)\n",
    "print(l)"
   ]
  },
  {
   "cell_type": "markdown",
   "metadata": {},
   "source": [
    "You can also generate arrays that start and end at certain values with **arange**, which you've already seen above and **linspace**. \n",
    "\n",
    "In the case of **arange**, you include a start value (by defaut assumed to be 0), a stop value and an increment (by default assumed to be 1). This will generate an array starting with the start value with each subsequent element increasing by the increment until just before the stop value is achieved or passed. "
   ]
  },
  {
   "cell_type": "code",
   "execution_count": 5,
   "metadata": {},
   "outputs": [
    {
     "data": {
      "text/plain": [
       "array([0.1, 0.2, 0.3, 0.4, 0.5, 0.6, 0.7, 0.8, 0.9, 1. , 1.1])"
      ]
     },
     "execution_count": 5,
     "metadata": {},
     "output_type": "execute_result"
    }
   ],
   "source": [
    "np.arange(0.1, 1.2, 0.1) # start, stop, increment"
   ]
  },
  {
   "cell_type": "markdown",
   "metadata": {},
   "source": [
    "Though it can be used in largely similar cases **linspace** is different in that it requires a start value, a stop value and a number of elements (by default assumed to be 50). It then generates an array including both the start and stop values with however many equally spaced elements"
   ]
  },
  {
   "cell_type": "code",
   "execution_count": 6,
   "metadata": {},
   "outputs": [
    {
     "data": {
      "text/plain": [
       "array([0.1, 0.2, 0.3, 0.4, 0.5, 0.6, 0.7, 0.8, 0.9, 1. , 1.1])"
      ]
     },
     "execution_count": 6,
     "metadata": {},
     "output_type": "execute_result"
    }
   ],
   "source": [
    "np.linspace(0.1, 1.1, 11) # start, stop, count"
   ]
  },
  {
   "cell_type": "markdown",
   "metadata": {},
   "source": [
    "If you know how big you want your array to be (how many dimensions and how large along each dimension), you can also create placeholder arrays to be filled or modified later. "
   ]
  },
  {
   "cell_type": "code",
   "execution_count": 10,
   "metadata": {},
   "outputs": [
    {
     "name": "stdout",
     "output_type": "stream",
     "text": [
      "[[0. 0. 0. 0. 0.]\n",
      " [0. 0. 0. 0. 0.]\n",
      " [0. 0. 0. 0. 0.]]\n",
      "[[1. 1. 1. 1. 1.]\n",
      " [1. 1. 1. 1. 1.]\n",
      " [1. 1. 1. 1. 1.]]\n",
      "[[6.1 6.1 6.1 6.1 6.1]\n",
      " [6.1 6.1 6.1 6.1 6.1]\n",
      " [6.1 6.1 6.1 6.1 6.1]]\n"
     ]
    }
   ],
   "source": [
    "shape = (3,5) # If you want the shape to be one dimensional, this can also be an integer scalar\n",
    "\n",
    "z = np.zeros(shape)\n",
    "o = np.ones(shape)\n",
    "f = np.full(shape, 6.1)\n",
    "\n",
    "print(z)\n",
    "print(o)\n",
    "print(f)"
   ]
  },
  {
   "cell_type": "markdown",
   "metadata": {},
   "source": [
    "Once you have your array defined, you can determine its dimensions (the number of axes) with the method **ndim**, its shape (the length of each axis) with the method **shape** and its size (the total number of elements) with the **size** method"
   ]
  },
  {
   "cell_type": "code",
   "execution_count": 11,
   "metadata": {},
   "outputs": [
    {
     "name": "stdout",
     "output_type": "stream",
     "text": [
      "2\n",
      "(3, 5)\n",
      "15\n"
     ]
    }
   ],
   "source": [
    "print(z.ndim)\n",
    "print(z.shape)\n",
    "print(z.size)"
   ]
  },
  {
   "cell_type": "markdown",
   "metadata": {},
   "source": [
    "#### Math with arrays\n",
    "\n",
    "Numpy arrays come with built in methods for determining common statistics of the values contained within, such as the mean, meadian, standard deviation, the sum and much more."
   ]
  },
  {
   "cell_type": "code",
   "execution_count": 13,
   "metadata": {},
   "outputs": [
    {
     "name": "stdout",
     "output_type": "stream",
     "text": [
      "25.0\n",
      "35.0\n",
      "32.83291031876401\n",
      "[0. 0. 0. 0. 0.]\n"
     ]
    }
   ],
   "source": [
    "print(np.median(l))\n",
    "print(np.mean(l))\n",
    "print(np.std(l))\n",
    "print(np.sum(z, axis=0))"
   ]
  },
  {
   "cell_type": "markdown",
   "metadata": {},
   "source": [
    "For arrays which are not one-dimensional, you can also specify the axis or axes along which you would like to perform many such numpy functions."
   ]
  },
  {
   "cell_type": "code",
   "execution_count": 16,
   "metadata": {},
   "outputs": [
    {
     "name": "stdout",
     "output_type": "stream",
     "text": [
      "[[7 5 4 7 1 1 9 9 1 4]\n",
      " [4 9 3 8 0 4 0 5 1 8]\n",
      " [3 0 0 8 1 9 4 1 3 5]\n",
      " [1 5 7 9 2 7 6 7 8 4]\n",
      " [9 1 5 8 0 5 1 8 3 3]]\n",
      "Sum along the row axis (yielding a sum for each column): \n",
      "[24 20 19 40  4 26 20 30 16 24]\n"
     ]
    }
   ],
   "source": [
    "x = np.random.randint(low=0, high=10, size=(5,10))\n",
    "print(x)\n",
    "print('Sum along the row axis (yielding a sum for each column): ')\n",
    "print(np.sum(x, axis=0))"
   ]
  },
  {
   "cell_type": "markdown",
   "metadata": {},
   "source": [
    "Similarly to integers, floats and complex, you can perform standard python mathematical operations (`+`, `-`, `*`, `/`, `**`, `//`, `%`, ...) on arrays. This behaves slightly differently however depending on if you are performing an operation between arrays of the same dimensions, arrays of difference dimensions or between an array and a scalar. \n",
    "\n",
    "The latter case, where you are operating on an array and a scalar, is the simplest. Here, the scalar operates on all elements of the array equally"
   ]
  },
  {
   "cell_type": "code",
   "execution_count": 17,
   "metadata": {},
   "outputs": [
    {
     "name": "stdout",
     "output_type": "stream",
     "text": [
      "x: \n",
      "[[1 1 1]\n",
      " [1 0 1]]\n"
     ]
    },
    {
     "data": {
      "text/plain": [
       "array([[2, 2, 2],\n",
       "       [2, 0, 2]])"
      ]
     },
     "execution_count": 17,
     "metadata": {},
     "output_type": "execute_result"
    }
   ],
   "source": [
    "x = np.random.randint(low=0, high=2, size=(2,3))\n",
    "\n",
    "print('x: ')\n",
    "print(x)\n",
    "\n",
    "x*2"
   ]
  },
  {
   "cell_type": "markdown",
   "metadata": {},
   "source": [
    "When you operate on two arrays of different dimensions (ex. a 2D array and a 3D array or a 1D array and a 4D array), this is a fair bit more complicated. \n",
    "\n",
    "Consider two arrays **array1** and **array2**, which are N-dimensional and M-dimensional respectively. If N > M, then you can perform basic operations between them only if the shape of the last M axes of array1 is the same as the shape of array2.\n",
    "\n",
    "This is likely very confusing without some examples... \n",
    "Lets try out a few!"
   ]
  },
  {
   "cell_type": "code",
   "execution_count": 21,
   "metadata": {},
   "outputs": [
    {
     "name": "stdout",
     "output_type": "stream",
     "text": [
      "x1: 2D, (2, 4)\n",
      "[[1 0 0 1]\n",
      " [1 1 0 1]]\n",
      "x2: 1D, (4,)\n",
      "[0 1 0 1]\n"
     ]
    },
    {
     "data": {
      "text/plain": [
       "array([[1, 1, 0, 2],\n",
       "       [1, 2, 0, 2]])"
      ]
     },
     "execution_count": 21,
     "metadata": {},
     "output_type": "execute_result"
    }
   ],
   "source": [
    "shape1 = (2,4)\n",
    "shape2 = (4)\n",
    "\n",
    "x1 = np.random.randint(low=0, high=2, size=shape1)\n",
    "x2 = np.random.randint(low=0, high=2, size=shape2)\n",
    "\n",
    "print(f'x1: {x1.ndim}D, {x1.shape}')\n",
    "print(x1)\n",
    "print(f'x2: {x2.ndim}D, {x2.shape}')\n",
    "print(x2)\n",
    "\n",
    "x1+x2"
   ]
  },
  {
   "cell_type": "markdown",
   "metadata": {},
   "source": [
    "In the case of two arrays of the same dimension, the arrays **must** have the **same shape**, and if so then the operation is performed **element-wise** (meaning the elements in the same position are operated on each other one-to-one)"
   ]
  },
  {
   "cell_type": "code",
   "execution_count": 24,
   "metadata": {},
   "outputs": [
    {
     "name": "stdout",
     "output_type": "stream",
     "text": [
      "x1: 2D, (3, 4)\n",
      "[[0 1 0 1]\n",
      " [0 0 1 0]\n",
      " [0 1 1 1]]\n",
      "x2: 2D, (3, 4)\n",
      "[[0 1 1 1]\n",
      " [0 0 1 0]\n",
      " [1 0 1 1]]\n"
     ]
    },
    {
     "data": {
      "text/plain": [
       "array([[0, 2, 1, 2],\n",
       "       [0, 0, 2, 0],\n",
       "       [1, 1, 2, 2]])"
      ]
     },
     "execution_count": 24,
     "metadata": {},
     "output_type": "execute_result"
    }
   ],
   "source": [
    "x1 = np.random.randint(low=0, high=2, size=(3,4))\n",
    "x2 = np.random.randint(low=0, high=2, size=(3,4))\n",
    "\n",
    "print(f'x1: {x1.ndim}D, {x1.shape}')\n",
    "print(x1)\n",
    "print(f'x2: {x2.ndim}D, {x2.shape}')\n",
    "print(x2)\n",
    "\n",
    "x1+x2"
   ]
  },
  {
   "cell_type": "markdown",
   "metadata": {},
   "source": [
    "If you would like to do matix operations instead of the basic python scalar operations, you can also do these with numpy (**np.dot**, **np.inner**, **np.outer**, ...)\n",
    "\n",
    "#### Array indexing\n",
    "\n",
    "Similar to lists, numpy arrays can be indexed. However unlike lists, arrays are not necessarily only one-dimensional, and so can be indexed along each of their axes. \n",
    "\n",
    "Consider a 3D array a. To access the ith element in axis 0, the jth element in axis 1 and the kth element in axis 2, you can index a with\n",
    "\n",
    "            a[i, j, k]\n",
    "            \n",
    "You can also index only certain axes at a time. If we would like the jth element of axis 1, we can do\n",
    "\n",
    "            a[:,j]\n",
    "\n",
    "When considering the axes for a 2D array, the indexing is the row axis first, then the column axis.\n",
    "\n",
    "Note that generally, an array of data will have some interpretation for each axis and so it may be useful to think of indexing and slicing (see below) in terms of what the data represents. For instance an image may be a 2D array, with the axes being the horizontal direction and the the vertical direction respectively, with the numeric values being the brightness. If you only want to look at the brightness 30 pixels horizontally, you would index\n",
    "\n",
    "            a[30,:]\n",
    "            \n",
    "which leaves a line of values in the vertical direction."
   ]
  },
  {
   "cell_type": "code",
   "execution_count": 25,
   "metadata": {},
   "outputs": [
    {
     "name": "stdout",
     "output_type": "stream",
     "text": [
      "[[[5 2 1]\n",
      "  [3 3 3]\n",
      "  [5 4 1]]\n",
      "\n",
      " [[3 2 2]\n",
      "  [3 2 1]\n",
      "  [3 0 4]]\n",
      "\n",
      " [[4 3 0]\n",
      "  [3 1 1]\n",
      "  [1 1 2]]]\n"
     ]
    }
   ],
   "source": [
    "shape = (3,3,3)\n",
    "x = np.random.randint(low=0, high=6, size=shape)\n",
    "\n",
    "print(x)"
   ]
  },
  {
   "cell_type": "code",
   "execution_count": 28,
   "metadata": {},
   "outputs": [
    {
     "name": "stdout",
     "output_type": "stream",
     "text": [
      "[[5 2 1]\n",
      " [3 3 3]\n",
      " [5 4 1]]\n",
      "\n",
      "[[5 2 1]\n",
      " [3 2 2]\n",
      " [4 3 0]]\n",
      "\n",
      "[[5 3 5]\n",
      " [3 3 3]\n",
      " [4 3 1]]\n"
     ]
    }
   ],
   "source": [
    "print(x[0])\n",
    "print()\n",
    "print(x[:,0])\n",
    "print()\n",
    "print(x[...,0]) # note here I use ... to skip having to specify : on all the prior axes"
   ]
  },
  {
   "cell_type": "markdown",
   "metadata": {},
   "source": [
    "#### Array slicing\n",
    "\n",
    "Again, like lists, numpy arrays can be sliced. Once more, this can be done separately along each axis. To obtain a slice of axis 1 from element n to m, we can do\n",
    "\n",
    "            a[:, n:m, :]\n",
    "           \n",
    "Similarly to lists, you can replace or the indexed or sliced elements in an array. \n",
    "This can be done with a scalar value, in which case the scalar replaces all elements in the index/slice.\n",
    "Alternatively, if you replace the elements at an index/slice with another array, then the shape of the replacement must have the same shape as the index/slice.\n",
    "\n",
    "Let's try some examples:"
   ]
  },
  {
   "cell_type": "code",
   "execution_count": 29,
   "metadata": {},
   "outputs": [
    {
     "name": "stdout",
     "output_type": "stream",
     "text": [
      "[[[3 1 0]\n",
      "  [0 2 1]\n",
      "  [2 1 2]]\n",
      "\n",
      " [[5 5 2]\n",
      "  [0 5 4]\n",
      "  [3 1 2]]\n",
      "\n",
      " [[0 3 2]\n",
      "  [1 1 4]\n",
      "  [0 3 4]]]\n"
     ]
    }
   ],
   "source": [
    "x = np.random.randint(low=0, high=6, size=shape)\n",
    "print(x)"
   ]
  },
  {
   "cell_type": "code",
   "execution_count": 30,
   "metadata": {},
   "outputs": [
    {
     "name": "stdout",
     "output_type": "stream",
     "text": [
      "[[[ 3 -1  0]\n",
      "  [ 0 -1  1]\n",
      "  [ 2 -1  2]]\n",
      "\n",
      " [[ 5  5  2]\n",
      "  [ 0  5  4]\n",
      "  [ 3  1  2]]\n",
      "\n",
      " [[ 0  3  2]\n",
      "  [ 1  1  4]\n",
      "  [ 0  3  4]]]\n"
     ]
    }
   ],
   "source": [
    "y = x.copy()\n",
    "\n",
    "y[0,:,1] = -1  # filling in an index with -1\n",
    "# y[1,-2:,-2:] = -1  # filling in a slice with -1\n",
    "\n",
    "print(y)"
   ]
  },
  {
   "cell_type": "markdown",
   "metadata": {},
   "source": [
    "#### Array masking\n",
    "\n",
    "The ability of numpy arrays to be indexed and sliced allows for something that lists cannot do, **masking**.\n",
    "\n",
    "You can create a **mask** by checking some condition against the array as a whole. The mask is an array of booleans of the same shape as the array it is based off of. \n",
    "\n",
    "You can then index an array by its mask to look at or alter only the elements that satisfy the condition."
   ]
  },
  {
   "cell_type": "code",
   "execution_count": 33,
   "metadata": {},
   "outputs": [
    {
     "name": "stdout",
     "output_type": "stream",
     "text": [
      "[[[3 1 0]\n",
      "  [0 2 1]\n",
      "  [2 1 2]]\n",
      "\n",
      " [[5 5 2]\n",
      "  [0 5 4]\n",
      "  [3 1 2]]\n",
      "\n",
      " [[0 3 2]\n",
      "  [1 1 4]\n",
      "  [0 3 4]]]\n"
     ]
    },
    {
     "data": {
      "text/plain": [
       "array([[[ 3, -1, -1],\n",
       "        [-1, -1, -1],\n",
       "        [-1, -1, -1]],\n",
       "\n",
       "       [[ 5,  5, -1],\n",
       "        [-1,  5,  4],\n",
       "        [ 3, -1, -1]],\n",
       "\n",
       "       [[-1,  3, -1],\n",
       "        [-1, -1,  4],\n",
       "        [-1,  3,  4]]])"
      ]
     },
     "execution_count": 33,
     "metadata": {},
     "output_type": "execute_result"
    }
   ],
   "source": [
    "print(x)\n",
    "y = x.copy()\n",
    "\n",
    "m = x < 3 # defining the mask\n",
    "\n",
    "y[m] = -1 # if you want to mask by the contrary of m, then you can do y[~m] = -1\n",
    "y"
   ]
  },
  {
   "cell_type": "markdown",
   "metadata": {},
   "source": [
    "You can also combine masks together with logical statements:"
   ]
  },
  {
   "cell_type": "code",
   "execution_count": 35,
   "metadata": {},
   "outputs": [
    {
     "name": "stdout",
     "output_type": "stream",
     "text": [
      "[[[3 1 0]\n",
      "  [0 2 1]\n",
      "  [2 1 2]]\n",
      "\n",
      " [[5 5 2]\n",
      "  [0 5 4]\n",
      "  [3 1 2]]\n",
      "\n",
      " [[0 3 2]\n",
      "  [1 1 4]\n",
      "  [0 3 4]]]\n"
     ]
    },
    {
     "data": {
      "text/plain": [
       "array([[[-1, -1,  0],\n",
       "        [ 0, -1, -1],\n",
       "        [-1, -1, -1]],\n",
       "\n",
       "       [[ 5,  5, -1],\n",
       "        [ 0,  5, -1],\n",
       "        [-1, -1, -1]],\n",
       "\n",
       "       [[ 0, -1, -1],\n",
       "        [-1, -1, -1],\n",
       "        [ 0, -1, -1]]])"
      ]
     },
     "execution_count": 35,
     "metadata": {},
     "output_type": "execute_result"
    }
   ],
   "source": [
    "print(x)\n",
    "y = x.copy()\n",
    "\n",
    "m1 = x == 0 # defining the first mask\n",
    "m2 = x == 5 # defining the second mask\n",
    "\n",
    "y[~(m1 + m2)] = -1 # \"+\" is analogous to \"or\" and \"*\" is analogous to \"and\" \n",
    "y"
   ]
  },
  {
   "cell_type": "markdown",
   "metadata": {},
   "source": [
    "### Reading and writing data with numpy\n",
    "\n",
    "With numpy you can read (`data = np.load(<path/to/foo>)`) and write (`np.save(<path/to/foo>, data)`) data in numerous different data formats. Some of the most common formats you might encounter here are **csv**, **npy**, **npz**"
   ]
  },
  {
   "cell_type": "markdown",
   "metadata": {},
   "source": [
    "## Pyplot\n",
    "\n",
    "One of the most common modules used for plotting and visualizing data is called **pyplot**, which often comes packaged as a module inside **matplotlib**."
   ]
  },
  {
   "cell_type": "code",
   "execution_count": 36,
   "metadata": {},
   "outputs": [],
   "source": [
    "import matplotlib.pyplot as plt"
   ]
  },
  {
   "cell_type": "markdown",
   "metadata": {},
   "source": [
    "The simplest use case here is simply plotting 1D data as a line. Here we'll start off by setting up some fake data to plot."
   ]
  },
  {
   "cell_type": "code",
   "execution_count": 37,
   "metadata": {},
   "outputs": [],
   "source": [
    "x_data = np.linspace(-10, 10, 100)\n",
    "\n",
    "y_true = np.exp(-x_data**2)\n",
    "y_err = np.random.normal(size=x_data.shape)/20\n",
    "\n",
    "y_data = y_true + y_err"
   ]
  },
  {
   "cell_type": "markdown",
   "metadata": {},
   "source": [
    "We can then plot this fake data using `plt.plot`. Here the only inputs that are absolutely necessary are the x and y data. "
   ]
  },
  {
   "cell_type": "code",
   "execution_count": 38,
   "metadata": {},
   "outputs": [
    {
     "data": {
      "text/plain": [
       "[<matplotlib.lines.Line2D at 0x7fbf55464610>]"
      ]
     },
     "execution_count": 38,
     "metadata": {},
     "output_type": "execute_result"
    },
    {
     "data": {
      "image/png": "[encoded data removed]",
      "text/plain": [
       "<Figure size 432x288 with 1 Axes>"
      ]
     },
     "metadata": {
      "needs_background": "light"
     },
     "output_type": "display_data"
    }
   ],
   "source": [
    "plt.plot(x_data, y_data)\n",
    "plt.plot(x_data, y_true)"
   ]
  },
  {
   "cell_type": "markdown",
   "metadata": {},
   "source": [
    "We also have quite a bit of flexibility to alter the plot so that it suis our purposes. \n",
    "Aspects such as the \n",
    "* size of the figure\n",
    "* the bounds of the x and y axes\n",
    "* labeling\n",
    "* the style of lines or points \n",
    "    * marker\n",
    "    * size/thickness\n",
    "    * colour\n",
    "    * transparency `alpha`\n",
    "    * ...\n",
    "* grid lines\n",
    "* ...much, much more...\n",
    "are all adjustable"
   ]
  },
  {
   "cell_type": "code",
   "execution_count": 39,
   "metadata": {},
   "outputs": [
    {
     "data": {
      "text/plain": [
       "<matplotlib.legend.Legend at 0x7fbf55f60190>"
      ]
     },
     "execution_count": 39,
     "metadata": {},
     "output_type": "execute_result"
    },
    {
     "data": {
      "image/png": "[encoded data removed]",
      "text/plain": [
       "<Figure size 720x360 with 1 Axes>"
      ]
     },
     "metadata": {
      "needs_background": "light"
     },
     "output_type": "display_data"
    }
   ],
   "source": [
    "plt.figure('fake_gauss_data', figsize=[10,5]) \n",
    "\n",
    "plt.plot(x_data, y_data, \n",
    "         'x', markersize=10, c='blue',\n",
    "         label='observation'\n",
    "        )\n",
    "plt.plot(x_data, y_true, \n",
    "         linestyle='-', linewidth=3, c='orange', \n",
    "         label='true signal'\n",
    "        )\n",
    "\n",
    "# Set Figure titles\n",
    "plt.title('Plot title')\n",
    "plt.ylabel('Y-axis title')\n",
    "plt.xlabel('X-axis title')\n",
    "\n",
    "plt.grid() # Create a grid\n",
    "\n",
    "plt.xlim(-3, 3) # Set the bounds of the x-axis\n",
    "plt.ylim(0.01, 1.5) # Set the bounds of the y-axis\n",
    "plt.yscale('log') # Set the y-axis to be logarithmic\n",
    "\n",
    "plt.legend(loc=0) # Place the legend for labeled data"
   ]
  },
  {
   "cell_type": "markdown",
   "metadata": {},
   "source": [
    "You can also plot 2D data with `plt.imshow()`. Lets generate some 2D data as an example:"
   ]
  },
  {
   "cell_type": "code",
   "execution_count": 40,
   "metadata": {},
   "outputs": [],
   "source": [
    "Nrow = 100\n",
    "Ncol = 70\n",
    "\n",
    "rows = np.linspace(-5, 5, Nrow)\n",
    "cols = np.linspace(-3.5, 3.5, Ncol)\n",
    "\n",
    "R = rows[:,np.newaxis].repeat(Ncol, axis=1)\n",
    "C = cols[np.newaxis,:].repeat(Nrow,axis=0)\n",
    "\n",
    "model = np.exp(-(R+C)**2)\n",
    "data_error = np.random.normal(size=(Nrow,Ncol))/3\n",
    "data = model + data_error"
   ]
  },
  {
   "cell_type": "markdown",
   "metadata": {},
   "source": [
    "By default here all you need is a 2D array of some data"
   ]
  },
  {
   "cell_type": "code",
   "execution_count": 41,
   "metadata": {},
   "outputs": [
    {
     "data": {
      "text/plain": [
       "<matplotlib.image.AxesImage at 0x7fbf552fe750>"
      ]
     },
     "execution_count": 41,
     "metadata": {},
     "output_type": "execute_result"
    },
    {
     "data": {
      "image/png": "[encoded data removed]",
      "text/plain": [
       "<Figure size 432x288 with 1 Axes>"
      ]
     },
     "metadata": {
      "needs_background": "light"
     },
     "output_type": "display_data"
    }
   ],
   "source": [
    "plt.imshow(data)"
   ]
  },
  {
   "cell_type": "markdown",
   "metadata": {},
   "source": [
    "Again though, we can change things to make this a bit more to our liking"
   ]
  },
  {
   "cell_type": "code",
   "execution_count": 42,
   "metadata": {},
   "outputs": [
    {
     "data": {
      "text/plain": [
       "Text(0, 0.5, 'Y-data')"
      ]
     },
     "execution_count": 42,
     "metadata": {},
     "output_type": "execute_result"
    },
    {
     "data": {
      "image/png": "[encoded data removed]",
      "text/plain": [
       "<Figure size 504x504 with 1 Axes>"
      ]
     },
     "metadata": {
      "needs_background": "light"
     },
     "output_type": "display_data"
    }
   ],
   "source": [
    "plt.figure(figsize=[7,7])\n",
    "\n",
    "plt.imshow(data, \n",
    "           cmap='YlGnBu', # set the color map\n",
    "           vmin=-1, vmax=2, # set the pixel value for the bottom and top of the color map\n",
    "           extent=[cols[0], cols[-1], rows[0], rows[-1]], # Convert the plots ticks from pixels. \n",
    "           # extent order is left-x, right-x, bottom-y, top-y\n",
    "           aspect='auto' # Adjust the plot to fit the figure (pixels will no longer be square)\n",
    "          )\n",
    "\n",
    "plt.xlabel('X-data')\n",
    "plt.ylabel('Y-data')"
   ]
  },
  {
   "cell_type": "markdown",
   "metadata": {},
   "source": [
    "Another type of plot that is used very often are histograms. The simplest of these is a histogram of a 1D array of data. Here we will plot the histogram of the residuals between our data and out model above using `plt.hist` conveniently, this outputs the bins and counts which we can reference later"
   ]
  },
  {
   "cell_type": "code",
   "execution_count": 45,
   "metadata": {},
   "outputs": [
    {
     "data": {
      "text/plain": [
       "<matplotlib.legend.Legend at 0x7fbf4c71eed0>"
      ]
     },
     "execution_count": 45,
     "metadata": {},
     "output_type": "execute_result"
    },
    {
     "data": {
      "image/png": "[encoded data removed]",
      "text/plain": [
       "<Figure size 432x288 with 1 Axes>"
      ]
     },
     "metadata": {
      "needs_background": "light"
     },
     "output_type": "display_data"
    }
   ],
   "source": [
    "residuals = (data - model).flatten()\n",
    "\n",
    "h = plt.hist(residuals, bins=100, label='residuals')\n",
    "plt.legend(loc=0)"
   ]
  },
  {
   "cell_type": "markdown",
   "metadata": {},
   "source": [
    "The last type of plot that we'll show here are 2D histograms. For cratesian bins, you can use `plt.hist2d` and for hexagonal bins you can use `plt.hexbin`. Fors, once again we need to make a dataset to plot:"
   ]
  },
  {
   "cell_type": "code",
   "execution_count": 46,
   "metadata": {},
   "outputs": [
    {
     "data": {
      "text/plain": [
       "[<matplotlib.lines.Line2D at 0x7fbf4c5b7810>]"
      ]
     },
     "execution_count": 46,
     "metadata": {},
     "output_type": "execute_result"
    },
    {
     "data": {
      "image/png": "[encoded data removed]",
      "text/plain": [
       "<Figure size 432x288 with 1 Axes>"
      ]
     },
     "metadata": {
      "needs_background": "light"
     },
     "output_type": "display_data"
    }
   ],
   "source": [
    "x_points = np.random.normal(size=1000)\n",
    "y_points = x_points**2 + np.random.normal(size=1000) + 2\n",
    "\n",
    "plt.plot(x_points, y_points, '.')"
   ]
  },
  {
   "cell_type": "markdown",
   "metadata": {},
   "source": [
    "We can now instead of plotting this data as a messy spread of points, we can bin these points together. "
   ]
  },
  {
   "cell_type": "code",
   "execution_count": 48,
   "metadata": {},
   "outputs": [
    {
     "data": {
      "text/plain": [
       "[<matplotlib.lines.Line2D at 0x7fbf4c3e5590>]"
      ]
     },
     "execution_count": 48,
     "metadata": {},
     "output_type": "execute_result"
    },
    {
     "data": {
      "image/png": "[encoded data removed]",
      "text/plain": [
       "<Figure size 720x360 with 2 Axes>"
      ]
     },
     "metadata": {
      "needs_background": "light"
     },
     "output_type": "display_data"
    }
   ],
   "source": [
    "fig, axs = plt.subplots(nrows=1, ncols=2,\n",
    "                        sharex=True, sharey=True, \n",
    "                        gridspec_kw={'width_ratios': [1,1], 'height_ratios': [1]}, \n",
    "                        figsize=[10,5])\n",
    "\n",
    "axs[0].hist2d(x_points, y_points, \n",
    "              bins=30, \n",
    "              cmap='Oranges')\n",
    "axs[0].set_ylabel('Y-axis')\n",
    "axs[0].set_xlabel('X-axis')\n",
    "axs[1].hexbin(x_points, y_points, \n",
    "              gridsize=30, \n",
    "              cmap='Blues')\n",
    "axs[1].set_xlabel('X-axis')\n",
    "\n",
    "xmod = np.linspace(-3,3,1000)\n",
    "ymod = xmod**2 + 2\n",
    "axs[0].plot(xmod, ymod, '-', c='C0')\n",
    "axs[1].plot(xmod, ymod, '-', c='C1')\n"
   ]
  },
  {
   "cell_type": "markdown",
   "metadata": {},
   "source": [
    "Of course, as I've just shown above, you don't need to keep yourself to a single plot per figure! If you want to show multiple plots in a single figure you can alway make use of `plt.subplots` as I did above.\n",
    "\n",
    "## Scipy\n",
    "\n",
    "The **scipy** module has a slew of useful components, including integration (`scipy.integration`), special mathematical functions (`scipy.special`) and a large library dedicated to statistics (`scipy.stats`). \n",
    "\n",
    "All of these are worthy of exploring, but for the sake of time, here we fill focus on fitting data. In this example, we will use `scipy.optimize.curve_fit`, though `scipy.optimize` contains many more useful tools and alternate methods for fitting models to data.\n",
    "\n",
    "Suppose in this example we would like to fit a model to the residuals we computed earlier. First we need to construct the model we plan to fit to the data:"
   ]
  },
  {
   "cell_type": "code",
   "execution_count": 49,
   "metadata": {},
   "outputs": [],
   "source": [
    "from scipy.optimize import curve_fit as cf\n",
    "\n",
    "def model(x, A, B, s, mu):\n",
    "    gauss = np.exp(-(x-mu)**2 / (2*s**2))\n",
    "    return A * gauss + B\n"
   ]
  },
  {
   "cell_type": "markdown",
   "metadata": {},
   "source": [
    "This is simply a Gaussian, where A is the amplitude of the peak, B is the vertical offset, s is the width and mu is the horizontal offset. \n",
    "\n",
    "We now need to provide some initial guesses for the parameters."
   ]
  },
  {
   "cell_type": "code",
   "execution_count": 50,
   "metadata": {},
   "outputs": [
    {
     "data": {
      "text/plain": [
       "<matplotlib.legend.Legend at 0x7fbf36766710>"
      ]
     },
     "execution_count": 50,
     "metadata": {},
     "output_type": "execute_result"
    },
    {
     "data": {
      "image/png": "[encoded data removed]",
      "text/plain": [
       "<Figure size 432x288 with 1 Axes>"
      ]
     },
     "metadata": {
      "needs_background": "light"
     },
     "output_type": "display_data"
    }
   ],
   "source": [
    "p0 = [200, -1, 0.5, 0.1] # Initial guess for A, B, s, mu in order\n",
    "\n",
    "counts, bin_edges, _ = plt.hist(residuals, bins=100, label='residuals')\n",
    "bin_centers = (bin_edges[:-1]+bin_edges[1:])/2\n",
    "\n",
    "plt.plot(bin_centers, model(bin_centers, *p0), '-', label='initial guess')\n",
    "\n",
    "plt.xlabel('Residual')\n",
    "plt.ylabel('Counts')\n",
    "plt.legend(loc=0)"
   ]
  },
  {
   "cell_type": "markdown",
   "metadata": {},
   "source": [
    "This isn't the best guess in the world, but it's an ok starting point. Now we can try and fit to get an optimized guess of the model's parameters. \n",
    "\n",
    "`curve_fit` will output the optimal parameters and the corresponding covariance matrix, which we'll name `popt` and `pcov` below:"
   ]
  },
  {
   "cell_type": "code",
   "execution_count": 51,
   "metadata": {},
   "outputs": [
    {
     "name": "stdout",
     "output_type": "stream",
     "text": [
      "[ 2.20885022e+02 -2.25387117e-01  3.36566216e-01 -5.34092183e-03]\n"
     ]
    },
    {
     "data": {
      "image/png": "[encoded data removed]",
      "text/plain": [
       "<Figure size 432x288 with 1 Axes>"
      ]
     },
     "metadata": {
      "needs_background": "light"
     },
     "output_type": "display_data"
    }
   ],
   "source": [
    "popt, pcov = cf(model, bin_centers, counts, \n",
    "                p0=p0, \n",
    "                sigma=None,  # errors on the data\n",
    "                absolute_sigma=True, # set the outputed covariance matrix to be in absolute terms rather than relative\n",
    "                maxfev=1000) # number of trials allowed to converge to a best fit\n",
    "\n",
    "f, ax = plt.subplots(1,1)\n",
    "\n",
    "ax.imshow(pcov, cmap='Blues')\n",
    "\n",
    "ax.set_xticks([0,1,2,3])\n",
    "ax.set_yticks([0,1,2,3])\n",
    "ax.set_xticklabels(['A', 'B', 's', 'mu'])\n",
    "ax.set_yticklabels(['A', 'B', 's', 'mu'])\n",
    "\n",
    "print(popt)"
   ]
  },
  {
   "cell_type": "markdown",
   "metadata": {},
   "source": [
    "We can now check that our fitted model is better than our initial guess"
   ]
  },
  {
   "cell_type": "code",
   "execution_count": 52,
   "metadata": {},
   "outputs": [
    {
     "data": {
      "text/plain": [
       "<matplotlib.legend.Legend at 0x7fbf365ef550>"
      ]
     },
     "execution_count": 52,
     "metadata": {},
     "output_type": "execute_result"
    },
    {
     "data": {
      "image/png": "[encoded data removed]",
      "text/plain": [
       "<Figure size 432x288 with 1 Axes>"
      ]
     },
     "metadata": {
      "needs_background": "light"
     },
     "output_type": "display_data"
    }
   ],
   "source": [
    "_ = plt.hist(residuals, bins=100, label='residuals')\n",
    "plt.plot(bin_centers, model(bin_centers, *p0), '-', label='initial guess')\n",
    "plt.plot(bin_centers, model(bin_centers, *popt), 'm-', label='fitted model')\n",
    "\n",
    "plt.xlabel('Residual')\n",
    "plt.ylabel('Counts')\n",
    "plt.legend(loc=0)"
   ]
  },
  {
   "cell_type": "markdown",
   "metadata": {},
   "source": [
    "Bear in mind that this was a very simple model with a very good dataset, and so fitting data may not be quite so easy in the future!"
   ]
  },
  {
   "cell_type": "markdown",
   "metadata": {},
   "source": [
    "## Astropy\n",
    "\n",
    "**astropy**, as its name suggests, is a python module dedicated for use in astronomy. Again, it has a large amount of functionality, much of which won't be covered here, so feel free to look at the documentation yourself to learn more.\n",
    "\n",
    "### Units\n",
    "\n",
    "Astropy allows you to express your data in physical units. This gives you a good way to keep track of the outputs of your computations and serves as an easy sanity check. If your energy has units of time, then something has gone wrong!\n",
    "\n",
    "This also means you don't need to worry about doing any unit conversion calculations yourself so long as you're consistent in using astropy units."
   ]
  },
  {
   "cell_type": "code",
   "execution_count": 53,
   "metadata": {},
   "outputs": [],
   "source": [
    "import astropy.units as u"
   ]
  },
  {
   "cell_type": "markdown",
   "metadata": {},
   "source": [
    "Suppose we want to define the speed of light, and figure out how long it takes light to travel a distance of 1 parsec. "
   ]
  },
  {
   "cell_type": "code",
   "execution_count": 54,
   "metadata": {},
   "outputs": [
    {
     "name": "stdout",
     "output_type": "stream",
     "text": [
      "299458792.0 m / s\n"
     ]
    }
   ],
   "source": [
    "c = 299458792 * u.m / u.s \n",
    "\n",
    "print(c)"
   ]
  },
  {
   "cell_type": "code",
   "execution_count": 55,
   "metadata": {},
   "outputs": [
    {
     "name": "stdout",
     "output_type": "stream",
     "text": [
      "3.3393576235357286e-09 pc s / m\n"
     ]
    }
   ],
   "source": [
    "distance = 1*u.pc\n",
    "time = distance / c\n",
    "\n",
    "print(time)"
   ]
  },
  {
   "cell_type": "markdown",
   "metadata": {},
   "source": [
    "This is a strange result. The units of pc and m should be able to cancel each other out, but they won't do so by default. To force this, we can cast the units to some unit convention like SI or CGS"
   ]
  },
  {
   "cell_type": "code",
   "execution_count": 56,
   "metadata": {},
   "outputs": [
    {
     "name": "stdout",
     "output_type": "stream",
     "text": [
      "103041809.55445756 s\n"
     ]
    }
   ],
   "source": [
    "print(time.si)"
   ]
  },
  {
   "cell_type": "markdown",
   "metadata": {},
   "source": [
    "This isn't very useful though. Perhaps years would be a better unit to use in this case. We can instead choose to explicitly cast our time quantity to units of years:"
   ]
  },
  {
   "cell_type": "code",
   "execution_count": 57,
   "metadata": {},
   "outputs": [
    {
     "name": "stdout",
     "output_type": "stream",
     "text": [
      "3.2651979096780983 yr\n"
     ]
    }
   ],
   "source": [
    "print(time.to(u.yr))"
   ]
  },
  {
   "cell_type": "markdown",
   "metadata": {},
   "source": [
    "### Constants\n",
    "\n",
    "Of course, we didn't actually need to define the speed of light. Astropy also contains a library of constants, which all come with units already built in."
   ]
  },
  {
   "cell_type": "code",
   "execution_count": 58,
   "metadata": {},
   "outputs": [],
   "source": [
    "import astropy.constants as c"
   ]
  },
  {
   "cell_type": "code",
   "execution_count": 59,
   "metadata": {},
   "outputs": [
    {
     "name": "stdout",
     "output_type": "stream",
     "text": [
      "  Name   = Speed of light in vacuum\n",
      "  Value  = 299792458.0\n",
      "  Uncertainty  = 0.0\n",
      "  Unit  = m / s\n",
      "  Reference = CODATA 2014\n"
     ]
    }
   ],
   "source": [
    "print(c.c)"
   ]
  },
  {
   "cell_type": "markdown",
   "metadata": {},
   "source": [
    "As you can see this even includes errors on the loaded constants. Let's try some less common constants."
   ]
  },
  {
   "cell_type": "code",
   "execution_count": 60,
   "metadata": {},
   "outputs": [
    {
     "name": "stdout",
     "output_type": "stream",
     "text": [
      "109.07637070600963\n"
     ]
    }
   ],
   "source": [
    "R_e = c.R_earth\n",
    "R_s = c.R_sun\n",
    "\n",
    "print(R_s/R_e)"
   ]
  },
  {
   "cell_type": "markdown",
   "metadata": {},
   "source": [
    "### Fits tables\n",
    "\n",
    "A common file format you are likely to run into in astronomy is called **FITS** (Flexible Image Transport System). Astropy comes packaged with a means of reading in FITS data.  "
   ]
  },
  {
   "cell_type": "code",
   "execution_count": 61,
   "metadata": {},
   "outputs": [],
   "source": [
    "from astropy.io import fits"
   ]
  },
  {
   "cell_type": "markdown",
   "metadata": {},
   "source": [
    "To open a fits file, you first need to open it with `hdul = fits.open('path/to/file.fits')`. \n",
    "\n",
    "FITS files contain a series of **headers** with information on their corresponding data. To view the types of data contained in the FITS file, you can check the output of `hdul.info()`. This will provide you a list of keys. For each key, you can then read the corresponding header information with `hdul['key_i'].header` and data table with `hdul['key_i'].data`.\n",
    "\n",
    "Once you are done the file, remember to close it with `hdul.close()` as keeping the file open restrics your computer's ability to function (only a set number of files can be open at once), and runs the risk of corrupting the contained data in the event of a crash."
   ]
  },
  {
   "cell_type": "code",
   "execution_count": null,
   "metadata": {},
   "outputs": [],
   "source": [
    "### Data tables"
   ]
  },
  {
   "cell_type": "code",
   "execution_count": null,
   "metadata": {},
   "outputs": [],
   "source": []
  },
  {
   "cell_type": "markdown",
   "metadata": {},
   "source": [
    "## Other useful modules\n",
    "\n",
    "Here we have only covered some limited aspects of the modules introduced above. Much of the initial learning curve in python is learning what you can do with the various pre-existing modules to reduce what you actually need to code yourself.\n",
    "\n",
    "There are also some useful modules that we haven't covered here which are extremely useful in their own right. Some of these have overlap with one another or even the modules presented above, but all can allow you to drastically improve what you can do in python.\n",
    "\n",
    "* Modules allowing interactions with your computer outside of python \n",
    "    * sys\n",
    "    * os\n",
    "    * subprocess\n",
    "* Modules dealing with processing time based data\n",
    "    * time\n",
    "    * datetime\n",
    "    * (astropy)\n",
    "* Modules for data processing\n",
    "    * pandas\n",
    "    * tensorflow\n",
    "    * (scipy)\n",
    "    * (numpy)\n",
    "    * (astropy)\n",
    "* Modules for altering how you do math in python\n",
    "    * sympy\n",
    "    * decimal\n",
    "    * uncertainties\n",
    "* Modules dedicated to plotting\n",
    "    * healpy\n",
    "    * seaborn\n",
    "    * (matplotlib)\n",
    "\n",
    "\n"
   ]
  },
  {
   "cell_type": "code",
   "execution_count": null,
   "metadata": {},
   "outputs": [],
   "source": []
  },
  {
   "cell_type": "code",
   "execution_count": null,
   "metadata": {},
   "outputs": [],
   "source": []
  },
  {
   "cell_type": "code",
   "execution_count": null,
   "metadata": {},
   "outputs": [],
   "source": []
  }
 ],
 "metadata": {
  "kernelspec": {
   "display_name": "Python 3",
   "language": "python",
   "name": "python3"
  },
  "language_info": {
   "codemirror_mode": {
    "name": "ipython",
    "version": 3
   },
   "file_extension": ".py",
   "mimetype": "text/x-python",
   "name": "python",
   "nbconvert_exporter": "python",
   "pygments_lexer": "ipython3",
   "version": "3.7.4"
  }
 },
 "nbformat": 4,
 "nbformat_minor": 2
}
